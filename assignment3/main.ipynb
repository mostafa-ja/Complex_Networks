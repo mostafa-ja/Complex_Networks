{
 "cells": [
  {
   "cell_type": "code",
   "execution_count": 2,
   "metadata": {},
   "outputs": [],
   "source": [
    "import networkx as nx\n",
    "import matplotlib.pyplot as plt\n",
    "import numpy as np\n",
    "import seaborn as sns"
   ]
  },
  {
   "cell_type": "code",
   "execution_count": 7,
   "metadata": {},
   "outputs": [],
   "source": [
    "def analysis_graph(path):\n",
    "\n",
    "    G = nx.read_edgelist(path, comments='#', nodetype=int)\n",
    "\n",
    "    num_edges = len(G.edges)\n",
    "    print('num_edges = ',num_edges)\n",
    "    num_nodes = len(G.nodes)\n",
    "    print('num_nodes = ',num_nodes)\n",
    "    average_degree = (num_edges * 2) / num_nodes\n",
    "    print('average_degree = ',average_degree)\n",
    "    density = nx.density(G)\n",
    "    print('density = ',density)\n",
    "\n",
    "    if nx.is_connected(G) :\n",
    "    \n",
    "        diameter = nx.diameter(G)\n",
    "        print('diameter = ',diameter)\n",
    "        average_shortest_path_length = nx.average_shortest_path_length(G)\n",
    "        print('average_shortest_path_length =',average_shortest_path_length )\n",
    "\n",
    "    else:\n",
    "        largest_cc = max(nx.connected_components(G), key=len)\n",
    "        G_cc = G.subgraph(largest_cc)\n",
    "        diameter = nx.diameter(G_cc)\n",
    "        print('diameter = ',diameter)\n",
    "        average_shortest_path_length = nx.average_shortest_path_length(G_cc)\n",
    "        print('average_shortest_path_length =',average_shortest_path_length )\n",
    "\n",
    "    avg_clustering = nx.average_clustering(G)\n",
    "    print('avg_clustering = ',avg_clustering)\n",
    "    transivity = nx.transitivity(G)\n",
    "    print('transivity = ',transivity)\n",
    "    assortativity = nx.degree_assortativity_coefficient(G)\n",
    "    print('assortativity = ',assortativity)\n",
    "    \n",
    "    # calculate degree distribution\n",
    "    degree_dist = sorted([d for n, d in G.degree()],reverse=True)\n",
    "    sns.histplot(degree_dist,kde=True);\n",
    "    \n",
    "\n",
    "    # calculate degree centrality\n",
    "    degree_centrality = nx.degree_centrality(G)\n",
    "    sorted_degree = sorted(degree_centrality.items(), key=lambda x: x[1], reverse=True)\n",
    "    degree_list = np.array(list(degree_centrality.values())) #attention: degress are normalized(/n-1)\n",
    "    degree_centralization = np.sum(max(degree_list)-degree_list) / (num_nodes-2)  # sum(Cmax-Ci)/(n-1)(n-2)\n",
    "    \n",
    "    # calculate betweenness centrality\n",
    "    betweenness_centrality = nx.betweenness_centrality(G)\n",
    "    sorted_betweenness = sorted(betweenness_centrality.items(), key=lambda x: x[1], reverse=True)\n",
    "    betweenness_list = np.array(list(betweenness_centrality.values())) #attention: betweenness are normalized(/n-1)\n",
    "    betweenness_centralization = np.sum(max(betweenness_list)-betweenness_list) / (num_nodes-1)\n",
    "\n",
    "    # calculate closeness centrality\n",
    "    closeness_centrality = nx.closeness_centrality(G)\n",
    "    sorted_closeness = sorted(closeness_centrality.items(), key=lambda x: x[1], reverse=True)\n",
    "    closeness_list = np.array(list(closeness_centrality.values())) #attention: betweenness are normalized(/(n-1))*2\n",
    "    closeness_centralization = (np.sum(max(closeness_list)-closeness_list) * 2) / (num_nodes-1)\n",
    "\n",
    "    # precise version for closeness_centralization\n",
    "    # denom = (num_nodes-1)*(num_nodes-2)/(1+2*(num_nodes-2)) # for big num_nodes == (num_nodes-1)/2\n",
    "    # closeness_centralization = np.sum(max(closeness_list)-closeness_list) / denom\n",
    "\n",
    "\n",
    "    # calculate PageRank centrality\n",
    "    pagerank_centrality = nx.pagerank(G)\n",
    "    sorted_pagerank = sorted(pagerank_centrality.items(), key=lambda x: x[1], reverse=True)\n",
    "    pagerank_list = np.array(list(pagerank_centrality.values())) # sum(pagerank_list)=1\n",
    "    pagerank_centralization = np.sum(max(pagerank_list)-pagerank_list) / (num_nodes-1)\n",
    "\n",
    "\n",
    "    # define a function to print the top nodes\n",
    "    def print_top_nodes(nodes, metric_name):\n",
    "        print()\n",
    "        print(f'top 5 nodes {metric_name}')\n",
    "        print('------------------')\n",
    "        print('  node\\tvalue')\n",
    "        for item in nodes:\n",
    "            print(f\"{item[0]:5.0f}\\t{item[1]:.4f}\")\n",
    "        \n",
    "\n",
    "    # print top 5 nodes in 4 metrics\n",
    "    print_top_nodes(sorted_degree[:5], 'degree')\n",
    "    print_top_nodes(sorted_betweenness[:5], 'betweenness')\n",
    "    print_top_nodes(sorted_closeness[:5] , 'closeness')\n",
    "    print_top_nodes(sorted_pagerank[:5] , 'pagerank')\n",
    "\n",
    "    # print centralization metrics\n",
    "    print('\\n centralization metrics ')\n",
    "    print('----------------------------')\n",
    "    print('degree_centralization = ',degree_centralization)\n",
    "    print('betweenness_centralization = ',betweenness_centralization)\n",
    "    print('closeness_centralization = ',closeness_centralization)\n",
    "    print('pagerank_centralization = ',pagerank_centralization)\n",
    "\n",
    "\n",
    "    \n",
    "    "
   ]
  },
  {
   "cell_type": "code",
   "execution_count": 17,
   "metadata": {},
   "outputs": [
    {
     "name": "stdout",
     "output_type": "stream",
     "text": [
      "num_edges =  12534\n",
      "num_nodes =  1858\n",
      "average_degree =  13.491926803013994\n",
      "density =  0.007265442543357024\n",
      "diameter =  14\n",
      "average_shortest_path_length = 3.452640184078649\n",
      "avg_clustering =  0.1413864121675117\n",
      "transivity =  0.09040338801314042\n",
      "assortativity =  -0.08465913095969374\n",
      "\n",
      " top 5 centrality \n",
      "----------------------------\n",
      "top_degree =  [(237, 0.1464728056004308), (238, 0.11954765751211631), (44, 0.09100700053850296), (168, 0.08292945611200861), (137, 0.07969843834141088)]\n",
      "top_betweenness =  [(237, 0.07955057589298345), (137, 0.05961357357799316), (169, 0.053322850934625854), (238, 0.038630411641658105), (251, 0.035466794375009165)]\n",
      "top_closeness =  [(237, 0.42158339409479156), (137, 0.4173880253671492), (238, 0.40452567972539516), (177, 0.3941413395628363), (176, 0.3941413395628363)]\n",
      "top_pagerank =  [(237, 0.008589396194066411), (238, 0.0066425594028311), (169, 0.005840573934959892), (44, 0.00537472880670594), (137, 0.0048946317297857336)]\n",
      "\n",
      " centralization metrics \n",
      "----------------------------\n",
      "degree_centralization =  0.13935737099140252\n",
      "betweenness_centralization =  0.07836899715418758\n",
      "closeness_centralization =  0.2929755428787253\n",
      "pagerank_centralization =  0.00805551864759041\n"
     ]
    },
    {
     "data": {
      "image/png": "[encoded data removed]",
      "text/plain": [
       "<Figure size 640x480 with 1 Axes>"
      ]
     },
     "metadata": {},
     "output_type": "display_data"
    }
   ],
   "source": [
    "path = 'datasets\\\\friendships-hamster.txt'\n",
    "analysis_graph(path)"
   ]
  },
  {
   "cell_type": "code",
   "execution_count": 18,
   "metadata": {},
   "outputs": [
    {
     "name": "stdout",
     "output_type": "stream",
     "text": [
      "num_edges =  88234\n",
      "num_nodes =  4039\n",
      "average_degree =  43.69101262688784\n",
      "density =  0.010819963503439287\n",
      "diameter =  8\n",
      "average_shortest_path_length = 3.6925068496963913\n",
      "avg_clustering =  0.6055467186200876\n",
      "transivity =  0.5191742775433075\n",
      "assortativity =  0.06357722918564943\n",
      "\n",
      " top 5 centrality \n",
      "----------------------------\n",
      "top_degree =  [(107, 0.258791480931154), (1684, 0.1961367013372957), (1912, 0.18697374938088163), (3437, 0.13546310054482416), (0, 0.08593363051015354)]\n",
      "top_betweenness =  [(107, 0.4805180785560152), (1684, 0.3377974497301992), (3437, 0.23611535735892905), (1912, 0.2292953395868782), (1085, 0.14901509211665306)]\n",
      "top_closeness =  [(107, 0.45969945355191255), (58, 0.3974018305284913), (428, 0.3948371956585509), (563, 0.3939127889961955), (1684, 0.39360561458231796)]\n",
      "top_pagerank =  [(3437, 0.0076145868447496), (107, 0.006936420955866117), (1684, 0.006367162138306824), (0, 0.006289602618466542), (1912, 0.003876971600884498)]\n",
      "\n",
      " centralization metrics \n",
      "----------------------------\n",
      "degree_centralization =  0.24809436682946243\n",
      "betweenness_centralization =  0.4799699550577849\n",
      "closeness_centralization =  0.36715428224354524\n",
      "pagerank_centralization =  0.007368825226831014\n"
     ]
    },
    {
     "data": {
      "image/png": "[encoded data removed]",
      "text/plain": [
       "<Figure size 640x480 with 1 Axes>"
      ]
     },
     "metadata": {},
     "output_type": "display_data"
    }
   ],
   "source": [
    "path = 'datasets\\\\facebook_combined.txt'\n",
    "analysis_graph(path)"
   ]
  },
  {
   "cell_type": "code",
   "execution_count": 4,
   "metadata": {},
   "outputs": [
    {
     "name": "stdout",
     "output_type": "stream",
     "text": [
      "num_edges =  352324\n",
      "num_nodes =  27770\n",
      "average_degree =  25.374432841195535\n",
      "density =  0.0009137683330762914\n"
     ]
    }
   ],
   "source": [
    "path = 'datasets\\\\Cit-HepTh.txt'\n",
    "analysis_graph(path)"
   ]
  }
 ],
 "metadata": {
  "kernelspec": {
   "display_name": "Python 3",
   "language": "python",
   "name": "python3"
  },
  "language_info": {
   "codemirror_mode": {
    "name": "ipython",
    "version": 3
   },
   "file_extension": ".py",
   "mimetype": "text/x-python",
   "name": "python",
   "nbconvert_exporter": "python",
   "pygments_lexer": "ipython3",
   "version": "3.11.2"
  },
  "orig_nbformat": 4,
  "vscode": {
   "interpreter": {
    "hash": "5238573367df39f7286bb46f9ff5f08f63a01a80960060ce41e3c79b190280fa"
   }
  }
 },
 "nbformat": 4,
 "nbformat_minor": 2
}
