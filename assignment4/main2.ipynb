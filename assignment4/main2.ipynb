{
 "cells": [
  {
   "cell_type": "code",
   "execution_count": 1,
   "metadata": {},
   "outputs": [],
   "source": [
    "import networkx as nx\n",
    "import matplotlib.pyplot as plt\n",
    "import numpy as np\n",
    "import seaborn as sns"
   ]
  },
  {
   "cell_type": "code",
   "execution_count": 2,
   "metadata": {},
   "outputs": [],
   "source": [
    "def analysis_graph(path):\n",
    "\n",
    "    G = nx.read_edgelist(path, comments='#', nodetype=int)\n",
    "\n",
    "    num_edges = len(G.edges)\n",
    "    print('num_edges = ',num_edges)\n",
    "    num_nodes = len(G.nodes)\n",
    "    print('num_nodes = ',num_nodes)\n",
    "    average_degree = (num_edges * 2) / num_nodes\n",
    "    print('average_degree = ',average_degree)\n",
    "    density = nx.density(G)\n",
    "    print('density = ',density)\n",
    "\n",
    "    avg_clustering = nx.average_clustering(G)\n",
    "    print('avg_clustering = ',avg_clustering)\n",
    "    transivity = nx.transitivity(G)\n",
    "    print('transivity = ',transivity)\n",
    "    assortativity = nx.degree_assortativity_coefficient(G)\n",
    "    print('assortativity = ',assortativity)\n",
    "\n",
    "    \n",
    "    # calculate degree centrality\n",
    "    degree_centrality = nx.degree_centrality(G)\n",
    "    top_degree = sorted(degree_centrality.items(), key=lambda x: x[1], reverse=True)[:5]\n",
    "    print('top_degree = ',top_degree)\n",
    "\n",
    "\n",
    "    # calculate betweenness centrality\n",
    "    betweenness_centrality = nx.betweenness_centrality(G)\n",
    "    top_betweenness = sorted(betweenness_centrality.items(), key=lambda x: x[1], reverse=True)[:5]\n",
    "    print('top_betweenness = ',top_betweenness)\n",
    "\n",
    "    # calculate closeness centrality\n",
    "    closeness_centrality = nx.closeness_centrality(G)\n",
    "    top_closeness = sorted(closeness_centrality.items(), key=lambda x: x[1], reverse=True)[:5]\n",
    "    print('top_closeness = ',top_closeness)\n",
    "\n",
    "    # calculate PageRank centrality\n",
    "    pagerank_centrality = nx.pagerank(G)\n",
    "    top_pagerank = sorted(pagerank_centrality.items(), key=lambda x: x[1], reverse=True)[:5]\n",
    "    print('top_pagerank = ',top_pagerank)\n",
    "\n",
    "    if nx.is_connected(G) :\n",
    "        if len(G.nodes) < 5000 :\n",
    "            diameter = nx.diameter(G)\n",
    "            print('diameter = ',diameter)\n",
    "            average_shortest_path_length = nx.average_shortest_path_length(G)\n",
    "            print('average_shortest_path_length =',average_shortest_path_length )\n",
    "        else :\n",
    "            diameter= nx.algorithms.approximation.diameter(G)\n",
    "            print('proximated diameter = ',diameter)\n",
    "            print('average_shortest_path_length = unknown(takes too long to get)' )\n",
    "\n",
    "\n",
    "    else:\n",
    "        largest_cc = max(nx.connected_components(G), key=len)\n",
    "        G_cc = G.subgraph(largest_cc)\n",
    "        if len(G_cc.nodes) < 5000 :\n",
    "            diameter = nx.diameter(G_cc)\n",
    "            print('diameter = ',diameter)\n",
    "            average_shortest_path_length = nx.average_shortest_path_length(G_cc)\n",
    "            print('average_shortest_path_length =',average_shortest_path_length )\n",
    "        else :\n",
    "            diameter= nx.algorithms.approximation.diameter(G_cc)\n",
    "            print('proximated diameter = ',diameter)\n",
    "            print('average_shortest_path_length = unknown(takes too long to get)' )\n",
    "    \n",
    "    # calculate degree distribution\n",
    "    degree_dist = sorted([d for n, d in G.degree()],reverse=True)\n",
    "    sns.histplot(degree_dist,kde=True)"
   ]
  },
  {
   "cell_type": "code",
   "execution_count": 3,
   "metadata": {},
   "outputs": [
    {
     "name": "stdout",
     "output_type": "stream",
     "text": [
      "num_edges =  88234\n",
      "num_nodes =  4039\n",
      "average_degree =  43.69101262688784\n",
      "density =  0.010819963503439287\n",
      "avg_clustering =  0.6055467186200876\n",
      "transivity =  0.5191742775433075\n",
      "assortativity =  0.06357722918564943\n",
      "top_degree =  [(107, 0.258791480931154), (1684, 0.1961367013372957), (1912, 0.18697374938088163), (3437, 0.13546310054482416), (0, 0.08593363051015354)]\n",
      "top_betweenness =  [(107, 0.4805180785560152), (1684, 0.3377974497301992), (3437, 0.23611535735892905), (1912, 0.2292953395868782), (1085, 0.14901509211665306)]\n",
      "top_closeness =  [(107, 0.45969945355191255), (58, 0.3974018305284913), (428, 0.3948371956585509), (563, 0.3939127889961955), (1684, 0.39360561458231796)]\n",
      "top_pagerank =  [(3437, 0.0076145868447496), (107, 0.006936420955866117), (1684, 0.006367162138306824), (0, 0.006289602618466542), (1912, 0.003876971600884498)]\n",
      "diameter =  8\n",
      "average_shortest_path_length = 3.6925068496963913\n"
     ]
    },
    {
     "data": {
      "image/png": "[encoded data removed]",
      "text/plain": [
       "<Figure size 640x480 with 1 Axes>"
      ]
     },
     "metadata": {},
     "output_type": "display_data"
    }
   ],
   "source": [
    "path = 'datasets\\\\facebook_combined.txt'\n",
    "analysis_graph(path)"
   ]
  }
 ],
 "metadata": {
  "kernelspec": {
   "display_name": "Python 3",
   "language": "python",
   "name": "python3"
  },
  "language_info": {
   "codemirror_mode": {
    "name": "ipython",
    "version": 3
   },
   "file_extension": ".py",
   "mimetype": "text/x-python",
   "name": "python",
   "nbconvert_exporter": "python",
   "pygments_lexer": "ipython3",
   "version": "3.11.2"
  },
  "orig_nbformat": 4
 },
 "nbformat": 4,
 "nbformat_minor": 2
}
