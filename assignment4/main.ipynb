{
 "cells": [
  {
   "cell_type": "code",
   "execution_count": 3,
   "metadata": {},
   "outputs": [],
   "source": [
    "import networkx as nx\n",
    "import matplotlib.pyplot as plt\n",
    "import numpy as np"
   ]
  },
  {
   "cell_type": "code",
   "execution_count": 26,
   "metadata": {},
   "outputs": [
    {
     "name": "stdout",
     "output_type": "stream",
     "text": [
      "# Directed graph (each unordered pair of nodes is saved once): Cit-HepTh.txt \n",
      "\n",
      "# Paper citation network of Arxiv High Energy Physics Theory category\n",
      "\n",
      "# Nodes: 27770 Edges: 352807\n",
      "\n"
     ]
    }
   ],
   "source": [
    "with open('datasets\\Cit-HepTh.txt','r') as f:\n",
    "    print(f.readline())\n",
    "    print(f.readline())\n",
    "    print(f.readline())\n",
    "    \n",
    "    line = f.readline()\n",
    "    "
   ]
  },
  {
   "cell_type": "code",
   "execution_count": 25,
   "metadata": {},
   "outputs": [
    {
     "data": {
      "text/plain": [
       "(1001, 9308122)"
      ]
     },
     "execution_count": 25,
     "metadata": {},
     "output_type": "execute_result"
    }
   ],
   "source": [
    "tuple(int(x) for x in line.strip().split('\\t'))"
   ]
  },
  {
   "cell_type": "code",
   "execution_count": 118,
   "metadata": {},
   "outputs": [],
   "source": [
    "edge_list = []\n",
    "with open('datasets\\Cit-HepTh.txt','r') as f:\n",
    "    for line in f.readlines():\n",
    "        row = line.strip().split('\\t')\n",
    "        if not row[0].startswith('#'):\n",
    "           edge_list.append((int(row[0]), int(row[1])))"
   ]
  },
  {
   "cell_type": "code",
   "execution_count": 68,
   "metadata": {},
   "outputs": [],
   "source": [
    "with open('datasets\\Cit-HepTh.txt', 'r') as file:\n",
    "    edge_list = []\n",
    "    for line in file:\n",
    "        # skip lines that do not contain data\n",
    "        if line.startswith('#'):\n",
    "            continue\n",
    "        \n",
    "        # extract the numbers from the line as a tuple of integers\n",
    "        edge = tuple(map(int, line.strip().split()))  #map(function, iter)\n",
    "        edge_list.append(edge)"
   ]
  },
  {
   "cell_type": "code",
   "execution_count": 71,
   "metadata": {},
   "outputs": [
    {
     "data": {
      "text/plain": [
       "[(1001, 9304045),\n",
       " (1001, 9308122),\n",
       " (1001, 9309097),\n",
       " (1001, 9311042),\n",
       " (1001, 9401139)]"
      ]
     },
     "execution_count": 71,
     "metadata": {},
     "output_type": "execute_result"
    }
   ],
   "source": [
    "edge_list[:5]"
   ]
  },
  {
   "cell_type": "code",
   "execution_count": 72,
   "metadata": {},
   "outputs": [
    {
     "data": {
      "text/plain": [
       "352807"
      ]
     },
     "execution_count": 72,
     "metadata": {},
     "output_type": "execute_result"
    }
   ],
   "source": [
    "len(edge_list)"
   ]
  },
  {
   "cell_type": "code",
   "execution_count": 119,
   "metadata": {},
   "outputs": [],
   "source": [
    "G = nx.Graph()\n",
    "G.add_edges_from(edge_list)\n",
    "#nx.draw_spring(G,with_labels=True)"
   ]
  },
  {
   "cell_type": "code",
   "execution_count": 131,
   "metadata": {},
   "outputs": [],
   "source": [
    "G = nx.read_edgelist('datasets\\Cit-HepTh.txt', comments='#', nodetype=int)"
   ]
  },
  {
   "cell_type": "code",
   "execution_count": 127,
   "metadata": {},
   "outputs": [
    {
     "name": "stdout",
     "output_type": "stream",
     "text": [
      "Node with maximum degree: 9711200\n",
      "Maximum degree: 2468\n"
     ]
    }
   ],
   "source": [
    "# Initialize max_degree to 0\n",
    "max_degree = 0\n",
    "\n",
    "# Iterate over the nodes and degrees in the graph\n",
    "for node, degree in G.degree:\n",
    "\n",
    "    # If the degree of the current node is greater than the current max_degree,\n",
    "    # update max_degree and max_node accordingly\n",
    "    if degree > max_degree:\n",
    "        max_degree = degree\n",
    "        max_node = node\n",
    "\n",
    "# Print the node with the maximum degree and its degree\n",
    "print(\"Node with maximum degree:\", max_node)\n",
    "print(\"Maximum degree:\", max_degree)\n"
   ]
  },
  {
   "cell_type": "code",
   "execution_count": 116,
   "metadata": {},
   "outputs": [
    {
     "name": "stdout",
     "output_type": "stream",
     "text": [
      "0.0009137683330762914\n"
     ]
    }
   ],
   "source": [
    "print(nx.density(G))"
   ]
  },
  {
   "cell_type": "code",
   "execution_count": null,
   "metadata": {},
   "outputs": [],
   "source": [
    "largest_cc = max(nx.connected_components(G), key=len)\n",
    "giantC = G.subgraph(largest_cc)\n",
    "nx.diameter(giantC)"
   ]
  },
  {
   "cell_type": "code",
   "execution_count": null,
   "metadata": {},
   "outputs": [],
   "source": [
    "with open('datasets\\Cit-HepTh.txt', 'r') as file:\n",
    "    edge_list = []\n",
    "    for line in file:\n",
    "        # skip lines that do not contain data\n",
    "        if line.startswith('#'):\n",
    "            continue\n",
    "        \n",
    "        # extract the numbers from the line as a tuple of integers\n",
    "        edge = tuple(map(int, line.strip().split()))  #map(function, iter)\n",
    "        edge_list.append(edge)\n",
    "\n",
    "G = nx.Graph()\n",
    "G.add_edges_from(edge_list)\n",
    "\n",
    "largest_cc = max(nx.connected_components(G), key=len)\n",
    "giantC = G.subgraph(largest_cc)\n",
    "nx.diameter(giantC)"
   ]
  },
  {
   "cell_type": "code",
   "execution_count": null,
   "metadata": {},
   "outputs": [],
   "source": [
    "nx.average_shortest_path_length(giantC)"
   ]
  },
  {
   "cell_type": "code",
   "execution_count": 117,
   "metadata": {},
   "outputs": [
    {
     "data": {
      "text/plain": [
       "27400"
      ]
     },
     "execution_count": 117,
     "metadata": {},
     "output_type": "execute_result"
    }
   ],
   "source": [
    "len(giantC.nodes)"
   ]
  },
  {
   "cell_type": "code",
   "execution_count": 111,
   "metadata": {},
   "outputs": [
    {
     "data": {
      "text/plain": [
       "352059"
      ]
     },
     "execution_count": 111,
     "metadata": {},
     "output_type": "execute_result"
    }
   ],
   "source": [
    "len(giantC.edges)"
   ]
  },
  {
   "cell_type": "code",
   "execution_count": 112,
   "metadata": {},
   "outputs": [
    {
     "data": {
      "text/plain": [
       "False"
      ]
     },
     "execution_count": 112,
     "metadata": {},
     "output_type": "execute_result"
    }
   ],
   "source": [
    "nx.is_connected(G)"
   ]
  },
  {
   "cell_type": "code",
   "execution_count": null,
   "metadata": {},
   "outputs": [],
   "source": [
    "sort_dict_by_value(nx.degree_centrality(G))"
   ]
  }
 ],
 "metadata": {
  "kernelspec": {
   "display_name": "Python 3",
   "language": "python",
   "name": "python3"
  },
  "language_info": {
   "codemirror_mode": {
    "name": "ipython",
    "version": 3
   },
   "file_extension": ".py",
   "mimetype": "text/x-python",
   "name": "python",
   "nbconvert_exporter": "python",
   "pygments_lexer": "ipython3",
   "version": "3.11.2"
  },
  "orig_nbformat": 4
 },
 "nbformat": 4,
 "nbformat_minor": 2
}
