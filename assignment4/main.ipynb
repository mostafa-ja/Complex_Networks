{
 "cells": [
  {
   "cell_type": "code",
   "execution_count": 3,
   "metadata": {},
   "outputs": [],
   "source": [
    "import networkx as nx\n",
    "import matplotlib.pyplot as plt\n",
    "import numpy as np"
   ]
  },
  {
   "cell_type": "code",
   "execution_count": 118,
   "metadata": {},
   "outputs": [],
   "source": [
    "edge_list = []\n",
    "with open('datasets\\Cit-HepTh.txt','r') as f:\n",
    "    for line in f.readlines():\n",
    "        row = line.strip().split('\\t')\n",
    "        if not row[0].startswith('#'):\n",
    "           edge_list.append((int(row[0]), int(row[1])))"
   ]
  },
  {
   "cell_type": "code",
   "execution_count": 68,
   "metadata": {},
   "outputs": [],
   "source": [
    "with open('datasets\\Cit-HepTh.txt', 'r') as file:\n",
    "    edge_list = []\n",
    "    for line in file:\n",
    "        # skip lines that do not contain data\n",
    "        if line.startswith('#'):\n",
    "            continue\n",
    "        \n",
    "        # extract the numbers from the line as a tuple of integers\n",
    "        edge = tuple(map(int, line.strip().split()))  #map(function, iter)\n",
    "        edge_list.append(edge)"
   ]
  },
  {
   "cell_type": "code",
   "execution_count": 71,
   "metadata": {},
   "outputs": [
    {
     "data": {
      "text/plain": [
       "[(1001, 9304045),\n",
       " (1001, 9308122),\n",
       " (1001, 9309097),\n",
       " (1001, 9311042),\n",
       " (1001, 9401139)]"
      ]
     },
     "execution_count": 71,
     "metadata": {},
     "output_type": "execute_result"
    }
   ],
   "source": [
    "edge_list[:5]"
   ]
  },
  {
   "cell_type": "code",
   "execution_count": 72,
   "metadata": {},
   "outputs": [
    {
     "data": {
      "text/plain": [
       "352807"
      ]
     },
     "execution_count": 72,
     "metadata": {},
     "output_type": "execute_result"
    }
   ],
   "source": [
    "len(edge_list)"
   ]
  },
  {
   "cell_type": "code",
   "execution_count": 119,
   "metadata": {},
   "outputs": [],
   "source": [
    "G = nx.Graph()\n",
    "G.add_edges_from(edge_list)\n",
    "#nx.draw_spring(G,with_labels=True)"
   ]
  },
  {
   "cell_type": "code",
   "execution_count": 131,
   "metadata": {},
   "outputs": [],
   "source": [
    "G = nx.read_edgelist('datasets\\Cit-HepTh.txt', comments='#', nodetype=int)"
   ]
  },
  {
   "cell_type": "code",
   "execution_count": 127,
   "metadata": {},
   "outputs": [
    {
     "name": "stdout",
     "output_type": "stream",
     "text": [
      "Node with maximum degree: 9711200\n",
      "Maximum degree: 2468\n"
     ]
    }
   ],
   "source": [
    "\n",
    "# Initialize max_degree to 0\n",
    "max_degree = 0\n",
    "\n",
    "# Iterate over the nodes and degrees in the graph\n",
    "for node, degree in G.degree:\n",
    "\n",
    "    # If the degree of the current node is greater than the current max_degree,\n",
    "    # update max_degree and max_node accordingly\n",
    "    if degree > max_degree:\n",
    "        max_degree = degree\n",
    "        max_node = node\n",
    "\n",
    "# Print the node with the maximum degree and its degree\n",
    "print(\"Node with maximum degree:\", max_node)\n",
    "print(\"Maximum degree:\", max_degree)\n"
   ]
  },
  {
   "cell_type": "code",
   "execution_count": 116,
   "metadata": {},
   "outputs": [
    {
     "name": "stdout",
     "output_type": "stream",
     "text": [
      "0.0009137683330762914\n"
     ]
    }
   ],
   "source": [
    "print(nx.density(G))"
   ]
  },
  {
   "cell_type": "code",
   "execution_count": null,
   "metadata": {},
   "outputs": [],
   "source": [
    "largest_cc = max(nx.connected_components(G), key=len)\n",
    "giantC = G.subgraph(largest_cc)\n",
    "nx.diameter(giantC)"
   ]
  },
  {
   "cell_type": "code",
   "execution_count": null,
   "metadata": {},
   "outputs": [],
   "source": [
    "with open('datasets\\Cit-HepTh.txt', 'r') as file:\n",
    "    edge_list = []\n",
    "    for line in file:\n",
    "        # skip lines that do not contain data\n",
    "        if line.startswith('#'):\n",
    "            continue\n",
    "        \n",
    "        # extract the numbers from the line as a tuple of integers\n",
    "        edge = tuple(map(int, line.strip().split()))  #map(function, iter)\n",
    "        edge_list.append(edge)\n",
    "\n",
    "G = nx.Graph()\n",
    "G.add_edges_from(edge_list)\n",
    "\n",
    "largest_cc = max(nx.connected_components(G), key=len)\n",
    "giantC = G.subgraph(largest_cc)\n",
    "nx.diameter(giantC)"
   ]
  },
  {
   "cell_type": "code",
   "execution_count": null,
   "metadata": {},
   "outputs": [],
   "source": [
    "nx.average_shortest_path_length(giantC)"
   ]
  },
  {
   "cell_type": "code",
   "execution_count": 117,
   "metadata": {},
   "outputs": [
    {
     "data": {
      "text/plain": [
       "27400"
      ]
     },
     "execution_count": 117,
     "metadata": {},
     "output_type": "execute_result"
    }
   ],
   "source": [
    "len(giantC.nodes)"
   ]
  },
  {
   "cell_type": "code",
   "execution_count": 111,
   "metadata": {},
   "outputs": [
    {
     "data": {
      "text/plain": [
       "352059"
      ]
     },
     "execution_count": 111,
     "metadata": {},
     "output_type": "execute_result"
    }
   ],
   "source": [
    "len(giantC.edges)"
   ]
  },
  {
   "cell_type": "code",
   "execution_count": 112,
   "metadata": {},
   "outputs": [
    {
     "data": {
      "text/plain": [
       "False"
      ]
     },
     "execution_count": 112,
     "metadata": {},
     "output_type": "execute_result"
    }
   ],
   "source": [
    "nx.is_connected(G)"
   ]
  },
  {
   "cell_type": "code",
   "execution_count": null,
   "metadata": {},
   "outputs": [],
   "source": [
    "sort_dict_by_value(nx.degree_centrality(G))"
   ]
  },
  {
   "cell_type": "code",
   "execution_count": 133,
   "metadata": {},
   "outputs": [],
   "source": [
    "def max_degree_G(G):\n",
    "    # Initialize max_degree to 0\n",
    "    max_degree = 0\n",
    "\n",
    "    # Iterate over the nodes and degrees in the graph\n",
    "    for node, degree in G.degree:\n",
    "\n",
    "        # If the degree of the current node is greater than the current max_degree,\n",
    "        # update max_degree and max_node accordingly\n",
    "        if degree > max_degree:\n",
    "            max_degree = degree\n",
    "            max_node = node\n",
    "    return max_node, max_degree"
   ]
  },
  {
   "cell_type": "code",
   "execution_count": 134,
   "metadata": {},
   "outputs": [],
   "source": [
    "def analysis_graph(path):\n",
    "    G = nx.read_edgelist(path, comments='#', nodetype=int)\n",
    "    max_node, max_degree = max_degree_G(G)\n",
    "    print(\"Node with maximum degree:\", max_node)\n",
    "    print(\"Maximum degree:\", max_degree)\n",
    "    density = nx.density(G)\n",
    "    print('density = ', density)\n",
    "\n",
    "    if nx.is_connected(G) :\n",
    "        diameter = nx.diameter(G)\n",
    "        print('diameter = ',diameter)\n",
    "        average_shortest_path_length = nx.average_shortest_path_length(G_cc)\n",
    "        print('average_shortest_path_length =',average_shortest_path_length )\n",
    "\n",
    "    else:\n",
    "        largest_cc = max(nx.connected_components(G), key=len)\n",
    "        G_cc = G.subgraph(largest_cc)\n",
    "        diameter = nx.diameter(G_cc)\n",
    "        print('diameter = ',diameter)\n",
    "        average_shortest_path_length = nx.average_shortest_path_length(G_cc)"
   ]
  },
  {
   "cell_type": "code",
   "execution_count": 139,
   "metadata": {},
   "outputs": [],
   "source": [
    "path = 'datasets\\\\facebook_combined.txt'\n",
    "G = nx.read_edgelist(path, comments='#', nodetype=int)"
   ]
  },
  {
   "cell_type": "code",
   "execution_count": 141,
   "metadata": {},
   "outputs": [
    {
     "data": {
      "text/plain": [
       "3.6925068496963913"
      ]
     },
     "execution_count": 141,
     "metadata": {},
     "output_type": "execute_result"
    }
   ],
   "source": [
    "nx.average_shortest_path_length(G)"
   ]
  },
  {
   "cell_type": "code",
   "execution_count": 161,
   "metadata": {},
   "outputs": [
    {
     "data": {
      "text/plain": [
       "4039"
      ]
     },
     "execution_count": 161,
     "metadata": {},
     "output_type": "execute_result"
    }
   ],
   "source": [
    "degree_sequence = sorted([d for n, d in G.degree()], reverse=True)\n",
    "len(degree_sequence)"
   ]
  },
  {
   "cell_type": "code",
   "execution_count": 166,
   "metadata": {},
   "outputs": [
    {
     "data": {
      "text/plain": [
       "43.69101262688784"
      ]
     },
     "execution_count": 166,
     "metadata": {},
     "output_type": "execute_result"
    }
   ],
   "source": [
    "average_degree = sum(degree_sequence)/len(degree_sequence)\n",
    "average_degree"
   ]
  },
  {
   "cell_type": "code",
   "execution_count": 167,
   "metadata": {},
   "outputs": [
    {
     "data": {
      "text/plain": [
       "<matplotlib.collections.PathCollection at 0x1de9c859810>"
      ]
     },
     "execution_count": 167,
     "metadata": {},
     "output_type": "execute_result"
    },
    {
     "data": {
      "image/png": "[encoded data removed]",
      "text/plain": [
       "<Figure size 640x480 with 1 Axes>"
      ]
     },
     "metadata": {},
     "output_type": "display_data"
    }
   ],
   "source": [
    "degree_sequence = sorted([d for n, d in G.degree()],reverse=True) \n",
    "plt.scatter(np.arange(len(degree_sequence)),np.log(degree_sequence),marker=\".\")"
   ]
  },
  {
   "cell_type": "code",
   "execution_count": 169,
   "metadata": {},
   "outputs": [
    {
     "name": "stdout",
     "output_type": "stream",
     "text": [
      "avg_clustering =  0.6055467186200876\n",
      "transivity =  0.5191742775433075\n"
     ]
    }
   ],
   "source": [
    "avg_clustering = nx.average_clustering(G)\n",
    "transivity = nx.transitivity(G)\n",
    "print('avg_clustering = ',avg_clustering)\n",
    "print('transivity = ',transivity)"
   ]
  },
  {
   "cell_type": "code",
   "execution_count": 260,
   "metadata": {},
   "outputs": [
    {
     "data": {
      "image/png": "[encoded data removed]",
      "text/plain": [
       "<Figure size 640x480 with 1 Axes>"
      ]
     },
     "metadata": {},
     "output_type": "display_data"
    }
   ],
   "source": [
    "import collections\n",
    "import matplotlib.pyplot as plt\n",
    "\n",
    "degree_sequence = [int(np.log2(d)) for n, d in G.degree()]\n",
    "degreeCount = collections.Counter(degree_sequence)\n",
    "\n",
    "deg, cnt = degreeCount.keys(), degreeCount.values()\n",
    "\n",
    "fig, ax = plt.subplots()\n",
    "plt.bar(deg, cnt,width=0.99)\n",
    "plt.title(\"Degree Histogram\")\n",
    "ax.set_xticks([d-0.5  for d in deg])\n",
    "ax.set_xticklabels(np.power(2,list(deg)))\n",
    "plt.show()"
   ]
  }
 ],
 "metadata": {
  "kernelspec": {
   "display_name": "Python 3",
   "language": "python",
   "name": "python3"
  },
  "language_info": {
   "codemirror_mode": {
    "name": "ipython",
    "version": 3
   },
   "file_extension": ".py",
   "mimetype": "text/x-python",
   "name": "python",
   "nbconvert_exporter": "python",
   "pygments_lexer": "ipython3",
   "version": "3.11.2"
  },
  "orig_nbformat": 4
 },
 "nbformat": 4,
 "nbformat_minor": 2
}
