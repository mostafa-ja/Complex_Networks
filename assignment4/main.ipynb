{
 "cells": [
  {
   "cell_type": "code",
   "execution_count": 5,
   "metadata": {},
   "outputs": [],
   "source": [
    "import networkx as nx\n",
    "import matplotlib.pyplot as plt\n",
    "import numpy as np\n",
    "import seaborn as sns"
   ]
  },
  {
   "cell_type": "code",
   "execution_count": 7,
   "metadata": {},
   "outputs": [],
   "source": [
    "def analysis_graph(path):\n",
    "\n",
    "    G = nx.read_edgelist(path, comments='#', nodetype=int)\n",
    "\n",
    "    num_edges = len(G.edges)\n",
    "    print('num_edges = ',num_edges)\n",
    "    num_nodes = len(G.nodes)\n",
    "    print('num_nodes = ',num_nodes)\n",
    "    average_degree = (num_edges * 2) / num_nodes\n",
    "    print('average_degree = ',average_degree)\n",
    "    density = nx.density(G)\n",
    "    print('density = ',density)\n",
    "\n",
    "    if nx.is_connected(G) :\n",
    "    \n",
    "        diameter = nx.diameter(G)\n",
    "        print('diameter = ',diameter)\n",
    "        average_shortest_path_length = nx.average_shortest_path_length(G)\n",
    "        print('average_shortest_path_length =',average_shortest_path_length )\n",
    "\n",
    "    else:\n",
    "        largest_cc = max(nx.connected_components(G), key=len)\n",
    "        G_cc = G.subgraph(largest_cc)\n",
    "        diameter = nx.diameter(G_cc)\n",
    "        print('diameter = ',diameter)\n",
    "        average_shortest_path_length = nx.average_shortest_path_length(G_cc)\n",
    "        print('average_shortest_path_length =',average_shortest_path_length )\n",
    "\n",
    "    avg_clustering = nx.average_clustering(G)\n",
    "    print('avg_clustering = ',avg_clustering)\n",
    "    transivity = nx.transitivity(G)\n",
    "    print('transivity = ',transivity)\n",
    "    assortativity = nx.degree_assortativity_coefficient(G)\n",
    "    print('assortativity = ',assortativity)\n",
    "    \n",
    "    # calculate degree distribution\n",
    "    degree_dist = sorted([d for n, d in G.degree()],reverse=True)\n",
    "    sns.histplot(degree_dist,kde=True);\n",
    "    \n",
    "    # calculate degree centrality\n",
    "    degree_centrality = nx.degree_centrality(G)\n",
    "    sorted_degree = sorted(degree_centrality.items(), key=lambda x: x[1], reverse=True)\n",
    "    print('top_degree = ',sorted_degree[:5])\n",
    "    degree_list = np.array(list(degree_centrality.values())) #attention: degress are normalized(/n-1)\n",
    "    degree_centralization = np.sum(max(degree_list)-degree_list) / (num_nodes-2)  # sum(Cmax-Ci)/(n-1)(n-2)\n",
    "    \n",
    "    # calculate betweenness centrality\n",
    "    betweenness_centrality = nx.betweenness_centrality(G)\n",
    "    sorted_betweenness = sorted(betweenness_centrality.items(), key=lambda x: x[1], reverse=True)\n",
    "    print('top_betweenness = ',sorted_betweenness[:5])\n",
    "    betweenness_list = np.array(list(betweenness_centrality.values())) #attention: betweenness are normalized(/n-1)\n",
    "    betweenness_centralization = np.sum(max(betweenness_list)-betweenness_list) / (num_nodes-1)\n",
    "    print(sorted_betweenness)\n",
    "    # calculate closeness centrality\n",
    "    closeness_centrality = nx.closeness_centrality(G)\n",
    "    sorted_closeness = sorted(closeness_centrality.items(), key=lambda x: x[1], reverse=True)\n",
    "    print('top_closeness = ',sorted_closeness[:5])\n",
    "    closeness_list = np.array(list(closeness_centrality.values())) #attention: betweenness are normalized(/(n-1))*2\n",
    "    closeness_centralization = (np.sum(max(closeness_list)-closeness_list) * 2) / (num_nodes-1)\n",
    "\n",
    "    # calculate PageRank centrality\n",
    "    pagerank_centrality = nx.pagerank(G)\n",
    "    sorted_pagerank = sorted(pagerank_centrality.items(), key=lambda x: x[1], reverse=True)\n",
    "    print('top_pagerank = ',sorted_pagerank[:5])\n",
    "    pagerank_list = np.array(list(pagerank_centrality.values())) # sum(pagerank_list)=1\n",
    "    pagerank_centralization = np.sum(max(pagerank_list)-pagerank_list) / (num_nodes-1)\n",
    "\n",
    "\n",
    "    # print centralization metrics\n",
    "    print('degree_centralization = ',degree_centralization)\n",
    "    print('betweenness_centralization = ',betweenness_centralization)\n",
    "    print('closeness_centralization = ',closeness_centralization)\n",
    "    print('pagerank_centralization = ',pagerank_centralization)\n",
    "\n",
    "\n",
    "    \n",
    "    "
   ]
  },
  {
   "cell_type": "code",
   "execution_count": 138,
   "metadata": {},
   "outputs": [
    {
     "name": "stdout",
     "output_type": "stream",
     "text": [
      "num_edges =  12534\n",
      "num_nodes =  1858\n",
      "average_degree =  13.491926803013994\n",
      "density =  0.007265442543357024\n"
     ]
    },
    {
     "ename": "KeyboardInterrupt",
     "evalue": "",
     "output_type": "error",
     "traceback": [
      "\u001b[1;31m---------------------------------------------------------------------------\u001b[0m",
      "\u001b[1;31mKeyboardInterrupt\u001b[0m                         Traceback (most recent call last)",
      "Cell \u001b[1;32mIn[138], line 2\u001b[0m\n\u001b[0;32m      1\u001b[0m path \u001b[39m=\u001b[39m \u001b[39m'\u001b[39m\u001b[39mdatasets\u001b[39m\u001b[39m\\\\\u001b[39;00m\u001b[39mfriendships-hamster.txt\u001b[39m\u001b[39m'\u001b[39m\n\u001b[1;32m----> 2\u001b[0m analysis_graph(path)\n",
      "Cell \u001b[1;32mIn[119], line 24\u001b[0m, in \u001b[0;36manalysis_graph\u001b[1;34m(path)\u001b[0m\n\u001b[0;32m     22\u001b[0m largest_cc \u001b[39m=\u001b[39m \u001b[39mmax\u001b[39m(nx\u001b[39m.\u001b[39mconnected_components(G), key\u001b[39m=\u001b[39m\u001b[39mlen\u001b[39m)\n\u001b[0;32m     23\u001b[0m G_cc \u001b[39m=\u001b[39m G\u001b[39m.\u001b[39msubgraph(largest_cc)\n\u001b[1;32m---> 24\u001b[0m diameter \u001b[39m=\u001b[39m nx\u001b[39m.\u001b[39;49mdiameter(G_cc)\n\u001b[0;32m     25\u001b[0m \u001b[39mprint\u001b[39m(\u001b[39m'\u001b[39m\u001b[39mdiameter = \u001b[39m\u001b[39m'\u001b[39m,diameter)\n\u001b[0;32m     26\u001b[0m average_shortest_path_length \u001b[39m=\u001b[39m nx\u001b[39m.\u001b[39maverage_shortest_path_length(G_cc)\n",
      "File \u001b[1;32m~\\AppData\\Roaming\\Python\\Python311\\site-packages\\networkx\\algorithms\\distance_measures.py:377\u001b[0m, in \u001b[0;36mdiameter\u001b[1;34m(G, e, usebounds, weight)\u001b[0m\n\u001b[0;32m    375\u001b[0m     \u001b[39mreturn\u001b[39;00m _extrema_bounding(G, compute\u001b[39m=\u001b[39m\u001b[39m\"\u001b[39m\u001b[39mdiameter\u001b[39m\u001b[39m\"\u001b[39m, weight\u001b[39m=\u001b[39mweight)\n\u001b[0;32m    376\u001b[0m \u001b[39mif\u001b[39;00m e \u001b[39mis\u001b[39;00m \u001b[39mNone\u001b[39;00m:\n\u001b[1;32m--> 377\u001b[0m     e \u001b[39m=\u001b[39m eccentricity(G, weight\u001b[39m=\u001b[39;49mweight)\n\u001b[0;32m    378\u001b[0m \u001b[39mreturn\u001b[39;00m \u001b[39mmax\u001b[39m(e\u001b[39m.\u001b[39mvalues())\n",
      "File \u001b[1;32m~\\AppData\\Roaming\\Python\\Python311\\site-packages\\networkx\\algorithms\\distance_measures.py:300\u001b[0m, in \u001b[0;36meccentricity\u001b[1;34m(G, v, sp, weight)\u001b[0m\n\u001b[0;32m    298\u001b[0m \u001b[39mfor\u001b[39;00m n \u001b[39min\u001b[39;00m G\u001b[39m.\u001b[39mnbunch_iter(v):\n\u001b[0;32m    299\u001b[0m     \u001b[39mif\u001b[39;00m sp \u001b[39mis\u001b[39;00m \u001b[39mNone\u001b[39;00m:\n\u001b[1;32m--> 300\u001b[0m         length \u001b[39m=\u001b[39m nx\u001b[39m.\u001b[39;49mshortest_path_length(G, source\u001b[39m=\u001b[39;49mn, weight\u001b[39m=\u001b[39;49mweight)\n\u001b[0;32m    302\u001b[0m         L \u001b[39m=\u001b[39m \u001b[39mlen\u001b[39m(length)\n\u001b[0;32m    303\u001b[0m     \u001b[39melse\u001b[39;00m:\n",
      "File \u001b[1;32m~\\AppData\\Roaming\\Python\\Python311\\site-packages\\networkx\\classes\\backends.py:145\u001b[0m, in \u001b[0;36m_dispatch.<locals>.wrapper\u001b[1;34m(*args, **kwds)\u001b[0m\n\u001b[0;32m    141\u001b[0m         \u001b[39melse\u001b[39;00m:\n\u001b[0;32m    142\u001b[0m             \u001b[39mraise\u001b[39;00m NetworkXNotImplemented(\n\u001b[0;32m    143\u001b[0m                 \u001b[39mf\u001b[39m\u001b[39m\"\u001b[39m\u001b[39m'\u001b[39m\u001b[39m{\u001b[39;00mname\u001b[39m}\u001b[39;00m\u001b[39m'\u001b[39m\u001b[39m not implemented by \u001b[39m\u001b[39m{\u001b[39;00mplugin_name\u001b[39m}\u001b[39;00m\u001b[39m\"\u001b[39m\n\u001b[0;32m    144\u001b[0m             )\n\u001b[1;32m--> 145\u001b[0m \u001b[39mreturn\u001b[39;00m func(\u001b[39m*\u001b[39;49margs, \u001b[39m*\u001b[39;49m\u001b[39m*\u001b[39;49mkwds)\n",
      "File \u001b[1;32m~\\AppData\\Roaming\\Python\\Python311\\site-packages\\networkx\\algorithms\\shortest_paths\\generic.py:300\u001b[0m, in \u001b[0;36mshortest_path_length\u001b[1;34m(G, source, target, weight, method)\u001b[0m\n\u001b[0;32m    297\u001b[0m \u001b[39mif\u001b[39;00m target \u001b[39mis\u001b[39;00m \u001b[39mNone\u001b[39;00m:\n\u001b[0;32m    298\u001b[0m     \u001b[39m# Find paths to all nodes accessible from the source.\u001b[39;00m\n\u001b[0;32m    299\u001b[0m     \u001b[39mif\u001b[39;00m method \u001b[39m==\u001b[39m \u001b[39m\"\u001b[39m\u001b[39munweighted\u001b[39m\u001b[39m\"\u001b[39m:\n\u001b[1;32m--> 300\u001b[0m         paths \u001b[39m=\u001b[39m nx\u001b[39m.\u001b[39;49msingle_source_shortest_path_length(G, source)\n\u001b[0;32m    301\u001b[0m     \u001b[39melif\u001b[39;00m method \u001b[39m==\u001b[39m \u001b[39m\"\u001b[39m\u001b[39mdijkstra\u001b[39m\u001b[39m\"\u001b[39m:\n\u001b[0;32m    302\u001b[0m         path_length \u001b[39m=\u001b[39m nx\u001b[39m.\u001b[39msingle_source_dijkstra_path_length\n",
      "File \u001b[1;32m~\\AppData\\Roaming\\Python\\Python311\\site-packages\\networkx\\algorithms\\shortest_paths\\unweighted.py:59\u001b[0m, in \u001b[0;36msingle_source_shortest_path_length\u001b[1;34m(G, source, cutoff)\u001b[0m\n\u001b[0;32m     57\u001b[0m     cutoff \u001b[39m=\u001b[39m \u001b[39mfloat\u001b[39m(\u001b[39m\"\u001b[39m\u001b[39minf\u001b[39m\u001b[39m\"\u001b[39m)\n\u001b[0;32m     58\u001b[0m nextlevel \u001b[39m=\u001b[39m {source: \u001b[39m1\u001b[39m}\n\u001b[1;32m---> 59\u001b[0m \u001b[39mreturn\u001b[39;00m \u001b[39mdict\u001b[39m(_single_shortest_path_length(G\u001b[39m.\u001b[39madj, nextlevel, cutoff))\n",
      "File \u001b[1;32m~\\AppData\\Roaming\\Python\\Python311\\site-packages\\networkx\\algorithms\\shortest_paths\\unweighted.py:91\u001b[0m, in \u001b[0;36m_single_shortest_path_length\u001b[1;34m(adj, firstlevel, cutoff)\u001b[0m\n\u001b[0;32m     89\u001b[0m         \u001b[39mreturn\u001b[39;00m\n\u001b[0;32m     90\u001b[0m     \u001b[39mfor\u001b[39;00m v \u001b[39min\u001b[39;00m found:\n\u001b[1;32m---> 91\u001b[0m         nextlevel\u001b[39m.\u001b[39;49mupdate(adj[v])\n\u001b[0;32m     92\u001b[0m     level \u001b[39m+\u001b[39m\u001b[39m=\u001b[39m \u001b[39m1\u001b[39m\n\u001b[0;32m     93\u001b[0m \u001b[39mdel\u001b[39;00m seen\n",
      "File \u001b[1;32m~\\AppData\\Roaming\\Python\\Python311\\site-packages\\networkx\\classes\\coreviews.py:281\u001b[0m, in \u001b[0;36m<genexpr>\u001b[1;34m(.0)\u001b[0m\n\u001b[0;32m    279\u001b[0m \u001b[39mif\u001b[39;00m node_ok_shorter:\n\u001b[0;32m    280\u001b[0m     \u001b[39mreturn\u001b[39;00m (n \u001b[39mfor\u001b[39;00m n \u001b[39min\u001b[39;00m \u001b[39mself\u001b[39m\u001b[39m.\u001b[39mNODE_OK\u001b[39m.\u001b[39mnodes \u001b[39mif\u001b[39;00m n \u001b[39min\u001b[39;00m \u001b[39mself\u001b[39m\u001b[39m.\u001b[39m_atlas)\n\u001b[1;32m--> 281\u001b[0m \u001b[39mreturn\u001b[39;00m (n \u001b[39mfor\u001b[39;00m n \u001b[39min\u001b[39;00m \u001b[39mself\u001b[39m\u001b[39m.\u001b[39m_atlas \u001b[39mif\u001b[39;00m \u001b[39mself\u001b[39m\u001b[39m.\u001b[39mNODE_OK(n))\n",
      "\u001b[1;31mKeyboardInterrupt\u001b[0m: "
     ]
    }
   ],
   "source": [
    "path = 'datasets\\\\friendships-hamster.txt'\n",
    "analysis_graph(path)"
   ]
  },
  {
   "cell_type": "code",
   "execution_count": 139,
   "metadata": {},
   "outputs": [
    {
     "name": "stdout",
     "output_type": "stream",
     "text": [
      "num_edges =  88234\n",
      "num_nodes =  4039\n",
      "average_degree =  43.69101262688784\n",
      "density =  0.010819963503439287\n"
     ]
    },
    {
     "ename": "KeyboardInterrupt",
     "evalue": "",
     "output_type": "error",
     "traceback": [
      "\u001b[1;31m---------------------------------------------------------------------------\u001b[0m",
      "\u001b[1;31mKeyboardInterrupt\u001b[0m                         Traceback (most recent call last)",
      "Cell \u001b[1;32mIn[139], line 2\u001b[0m\n\u001b[0;32m      1\u001b[0m path \u001b[39m=\u001b[39m \u001b[39m'\u001b[39m\u001b[39mdatasets\u001b[39m\u001b[39m\\\\\u001b[39;00m\u001b[39mfacebook_combined.txt\u001b[39m\u001b[39m'\u001b[39m\n\u001b[1;32m----> 2\u001b[0m analysis_graph(path)\n",
      "Cell \u001b[1;32mIn[119], line 16\u001b[0m, in \u001b[0;36manalysis_graph\u001b[1;34m(path)\u001b[0m\n\u001b[0;32m     12\u001b[0m \u001b[39mprint\u001b[39m(\u001b[39m'\u001b[39m\u001b[39mdensity = \u001b[39m\u001b[39m'\u001b[39m,density)\n\u001b[0;32m     14\u001b[0m \u001b[39mif\u001b[39;00m nx\u001b[39m.\u001b[39mis_connected(G) :\n\u001b[1;32m---> 16\u001b[0m     diameter \u001b[39m=\u001b[39m nx\u001b[39m.\u001b[39;49mdiameter(G)\n\u001b[0;32m     17\u001b[0m     \u001b[39mprint\u001b[39m(\u001b[39m'\u001b[39m\u001b[39mdiameter = \u001b[39m\u001b[39m'\u001b[39m,diameter)\n\u001b[0;32m     18\u001b[0m     average_shortest_path_length \u001b[39m=\u001b[39m nx\u001b[39m.\u001b[39maverage_shortest_path_length(G)\n",
      "File \u001b[1;32m~\\AppData\\Roaming\\Python\\Python311\\site-packages\\networkx\\algorithms\\distance_measures.py:377\u001b[0m, in \u001b[0;36mdiameter\u001b[1;34m(G, e, usebounds, weight)\u001b[0m\n\u001b[0;32m    375\u001b[0m     \u001b[39mreturn\u001b[39;00m _extrema_bounding(G, compute\u001b[39m=\u001b[39m\u001b[39m\"\u001b[39m\u001b[39mdiameter\u001b[39m\u001b[39m\"\u001b[39m, weight\u001b[39m=\u001b[39mweight)\n\u001b[0;32m    376\u001b[0m \u001b[39mif\u001b[39;00m e \u001b[39mis\u001b[39;00m \u001b[39mNone\u001b[39;00m:\n\u001b[1;32m--> 377\u001b[0m     e \u001b[39m=\u001b[39m eccentricity(G, weight\u001b[39m=\u001b[39;49mweight)\n\u001b[0;32m    378\u001b[0m \u001b[39mreturn\u001b[39;00m \u001b[39mmax\u001b[39m(e\u001b[39m.\u001b[39mvalues())\n",
      "File \u001b[1;32m~\\AppData\\Roaming\\Python\\Python311\\site-packages\\networkx\\algorithms\\distance_measures.py:300\u001b[0m, in \u001b[0;36meccentricity\u001b[1;34m(G, v, sp, weight)\u001b[0m\n\u001b[0;32m    298\u001b[0m \u001b[39mfor\u001b[39;00m n \u001b[39min\u001b[39;00m G\u001b[39m.\u001b[39mnbunch_iter(v):\n\u001b[0;32m    299\u001b[0m     \u001b[39mif\u001b[39;00m sp \u001b[39mis\u001b[39;00m \u001b[39mNone\u001b[39;00m:\n\u001b[1;32m--> 300\u001b[0m         length \u001b[39m=\u001b[39m nx\u001b[39m.\u001b[39;49mshortest_path_length(G, source\u001b[39m=\u001b[39;49mn, weight\u001b[39m=\u001b[39;49mweight)\n\u001b[0;32m    302\u001b[0m         L \u001b[39m=\u001b[39m \u001b[39mlen\u001b[39m(length)\n\u001b[0;32m    303\u001b[0m     \u001b[39melse\u001b[39;00m:\n",
      "File \u001b[1;32m~\\AppData\\Roaming\\Python\\Python311\\site-packages\\networkx\\classes\\backends.py:145\u001b[0m, in \u001b[0;36m_dispatch.<locals>.wrapper\u001b[1;34m(*args, **kwds)\u001b[0m\n\u001b[0;32m    141\u001b[0m         \u001b[39melse\u001b[39;00m:\n\u001b[0;32m    142\u001b[0m             \u001b[39mraise\u001b[39;00m NetworkXNotImplemented(\n\u001b[0;32m    143\u001b[0m                 \u001b[39mf\u001b[39m\u001b[39m\"\u001b[39m\u001b[39m'\u001b[39m\u001b[39m{\u001b[39;00mname\u001b[39m}\u001b[39;00m\u001b[39m'\u001b[39m\u001b[39m not implemented by \u001b[39m\u001b[39m{\u001b[39;00mplugin_name\u001b[39m}\u001b[39;00m\u001b[39m\"\u001b[39m\n\u001b[0;32m    144\u001b[0m             )\n\u001b[1;32m--> 145\u001b[0m \u001b[39mreturn\u001b[39;00m func(\u001b[39m*\u001b[39;49margs, \u001b[39m*\u001b[39;49m\u001b[39m*\u001b[39;49mkwds)\n",
      "File \u001b[1;32m~\\AppData\\Roaming\\Python\\Python311\\site-packages\\networkx\\algorithms\\shortest_paths\\generic.py:300\u001b[0m, in \u001b[0;36mshortest_path_length\u001b[1;34m(G, source, target, weight, method)\u001b[0m\n\u001b[0;32m    297\u001b[0m \u001b[39mif\u001b[39;00m target \u001b[39mis\u001b[39;00m \u001b[39mNone\u001b[39;00m:\n\u001b[0;32m    298\u001b[0m     \u001b[39m# Find paths to all nodes accessible from the source.\u001b[39;00m\n\u001b[0;32m    299\u001b[0m     \u001b[39mif\u001b[39;00m method \u001b[39m==\u001b[39m \u001b[39m\"\u001b[39m\u001b[39munweighted\u001b[39m\u001b[39m\"\u001b[39m:\n\u001b[1;32m--> 300\u001b[0m         paths \u001b[39m=\u001b[39m nx\u001b[39m.\u001b[39;49msingle_source_shortest_path_length(G, source)\n\u001b[0;32m    301\u001b[0m     \u001b[39melif\u001b[39;00m method \u001b[39m==\u001b[39m \u001b[39m\"\u001b[39m\u001b[39mdijkstra\u001b[39m\u001b[39m\"\u001b[39m:\n\u001b[0;32m    302\u001b[0m         path_length \u001b[39m=\u001b[39m nx\u001b[39m.\u001b[39msingle_source_dijkstra_path_length\n",
      "File \u001b[1;32m~\\AppData\\Roaming\\Python\\Python311\\site-packages\\networkx\\algorithms\\shortest_paths\\unweighted.py:59\u001b[0m, in \u001b[0;36msingle_source_shortest_path_length\u001b[1;34m(G, source, cutoff)\u001b[0m\n\u001b[0;32m     57\u001b[0m     cutoff \u001b[39m=\u001b[39m \u001b[39mfloat\u001b[39m(\u001b[39m\"\u001b[39m\u001b[39minf\u001b[39m\u001b[39m\"\u001b[39m)\n\u001b[0;32m     58\u001b[0m nextlevel \u001b[39m=\u001b[39m {source: \u001b[39m1\u001b[39m}\n\u001b[1;32m---> 59\u001b[0m \u001b[39mreturn\u001b[39;00m \u001b[39mdict\u001b[39m(_single_shortest_path_length(G\u001b[39m.\u001b[39madj, nextlevel, cutoff))\n",
      "File \u001b[1;32m~\\AppData\\Roaming\\Python\\Python311\\site-packages\\networkx\\algorithms\\shortest_paths\\unweighted.py:91\u001b[0m, in \u001b[0;36m_single_shortest_path_length\u001b[1;34m(adj, firstlevel, cutoff)\u001b[0m\n\u001b[0;32m     89\u001b[0m         \u001b[39mreturn\u001b[39;00m\n\u001b[0;32m     90\u001b[0m     \u001b[39mfor\u001b[39;00m v \u001b[39min\u001b[39;00m found:\n\u001b[1;32m---> 91\u001b[0m         nextlevel\u001b[39m.\u001b[39mupdate(adj[v])\n\u001b[0;32m     92\u001b[0m     level \u001b[39m+\u001b[39m\u001b[39m=\u001b[39m \u001b[39m1\u001b[39m\n\u001b[0;32m     93\u001b[0m \u001b[39mdel\u001b[39;00m seen\n",
      "\u001b[1;31mKeyboardInterrupt\u001b[0m: "
     ]
    }
   ],
   "source": [
    "path = 'datasets\\\\facebook_combined.txt'\n",
    "analysis_graph(path)"
   ]
  },
  {
   "cell_type": "code",
   "execution_count": 8,
   "metadata": {},
   "outputs": [
    {
     "name": "stdout",
     "output_type": "stream",
     "text": [
      "num_edges =  352324\n",
      "num_nodes =  27770\n",
      "average_degree =  25.374432841195535\n",
      "density =  0.0009137683330762914\n"
     ]
    },
    {
     "ename": "KeyboardInterrupt",
     "evalue": "",
     "output_type": "error",
     "traceback": [
      "\u001b[1;31m---------------------------------------------------------------------------\u001b[0m",
      "\u001b[1;31mKeyboardInterrupt\u001b[0m                         Traceback (most recent call last)",
      "Cell \u001b[1;32mIn[8], line 2\u001b[0m\n\u001b[0;32m      1\u001b[0m path \u001b[39m=\u001b[39m \u001b[39m'\u001b[39m\u001b[39mdatasets\u001b[39m\u001b[39m\\\\\u001b[39;00m\u001b[39mCit-HepTh.txt\u001b[39m\u001b[39m'\u001b[39m\n\u001b[1;32m----> 2\u001b[0m analysis_graph(path)\n",
      "Cell \u001b[1;32mIn[7], line 24\u001b[0m, in \u001b[0;36manalysis_graph\u001b[1;34m(path)\u001b[0m\n\u001b[0;32m     22\u001b[0m largest_cc \u001b[39m=\u001b[39m \u001b[39mmax\u001b[39m(nx\u001b[39m.\u001b[39mconnected_components(G), key\u001b[39m=\u001b[39m\u001b[39mlen\u001b[39m)\n\u001b[0;32m     23\u001b[0m G_cc \u001b[39m=\u001b[39m G\u001b[39m.\u001b[39msubgraph(largest_cc)\n\u001b[1;32m---> 24\u001b[0m diameter \u001b[39m=\u001b[39m nx\u001b[39m.\u001b[39;49mdiameter(G_cc)\n\u001b[0;32m     25\u001b[0m \u001b[39mprint\u001b[39m(\u001b[39m'\u001b[39m\u001b[39mdiameter = \u001b[39m\u001b[39m'\u001b[39m,diameter)\n\u001b[0;32m     26\u001b[0m average_shortest_path_length \u001b[39m=\u001b[39m nx\u001b[39m.\u001b[39maverage_shortest_path_length(G_cc)\n",
      "File \u001b[1;32m~\\AppData\\Roaming\\Python\\Python311\\site-packages\\networkx\\algorithms\\distance_measures.py:377\u001b[0m, in \u001b[0;36mdiameter\u001b[1;34m(G, e, usebounds, weight)\u001b[0m\n\u001b[0;32m    375\u001b[0m     \u001b[39mreturn\u001b[39;00m _extrema_bounding(G, compute\u001b[39m=\u001b[39m\u001b[39m\"\u001b[39m\u001b[39mdiameter\u001b[39m\u001b[39m\"\u001b[39m, weight\u001b[39m=\u001b[39mweight)\n\u001b[0;32m    376\u001b[0m \u001b[39mif\u001b[39;00m e \u001b[39mis\u001b[39;00m \u001b[39mNone\u001b[39;00m:\n\u001b[1;32m--> 377\u001b[0m     e \u001b[39m=\u001b[39m eccentricity(G, weight\u001b[39m=\u001b[39;49mweight)\n\u001b[0;32m    378\u001b[0m \u001b[39mreturn\u001b[39;00m \u001b[39mmax\u001b[39m(e\u001b[39m.\u001b[39mvalues())\n",
      "File \u001b[1;32m~\\AppData\\Roaming\\Python\\Python311\\site-packages\\networkx\\algorithms\\distance_measures.py:300\u001b[0m, in \u001b[0;36meccentricity\u001b[1;34m(G, v, sp, weight)\u001b[0m\n\u001b[0;32m    298\u001b[0m \u001b[39mfor\u001b[39;00m n \u001b[39min\u001b[39;00m G\u001b[39m.\u001b[39mnbunch_iter(v):\n\u001b[0;32m    299\u001b[0m     \u001b[39mif\u001b[39;00m sp \u001b[39mis\u001b[39;00m \u001b[39mNone\u001b[39;00m:\n\u001b[1;32m--> 300\u001b[0m         length \u001b[39m=\u001b[39m nx\u001b[39m.\u001b[39;49mshortest_path_length(G, source\u001b[39m=\u001b[39;49mn, weight\u001b[39m=\u001b[39;49mweight)\n\u001b[0;32m    302\u001b[0m         L \u001b[39m=\u001b[39m \u001b[39mlen\u001b[39m(length)\n\u001b[0;32m    303\u001b[0m     \u001b[39melse\u001b[39;00m:\n",
      "File \u001b[1;32m~\\AppData\\Roaming\\Python\\Python311\\site-packages\\networkx\\classes\\backends.py:145\u001b[0m, in \u001b[0;36m_dispatch.<locals>.wrapper\u001b[1;34m(*args, **kwds)\u001b[0m\n\u001b[0;32m    141\u001b[0m         \u001b[39melse\u001b[39;00m:\n\u001b[0;32m    142\u001b[0m             \u001b[39mraise\u001b[39;00m NetworkXNotImplemented(\n\u001b[0;32m    143\u001b[0m                 \u001b[39mf\u001b[39m\u001b[39m\"\u001b[39m\u001b[39m'\u001b[39m\u001b[39m{\u001b[39;00mname\u001b[39m}\u001b[39;00m\u001b[39m'\u001b[39m\u001b[39m not implemented by \u001b[39m\u001b[39m{\u001b[39;00mplugin_name\u001b[39m}\u001b[39;00m\u001b[39m\"\u001b[39m\n\u001b[0;32m    144\u001b[0m             )\n\u001b[1;32m--> 145\u001b[0m \u001b[39mreturn\u001b[39;00m func(\u001b[39m*\u001b[39;49margs, \u001b[39m*\u001b[39;49m\u001b[39m*\u001b[39;49mkwds)\n",
      "File \u001b[1;32m~\\AppData\\Roaming\\Python\\Python311\\site-packages\\networkx\\algorithms\\shortest_paths\\generic.py:300\u001b[0m, in \u001b[0;36mshortest_path_length\u001b[1;34m(G, source, target, weight, method)\u001b[0m\n\u001b[0;32m    297\u001b[0m \u001b[39mif\u001b[39;00m target \u001b[39mis\u001b[39;00m \u001b[39mNone\u001b[39;00m:\n\u001b[0;32m    298\u001b[0m     \u001b[39m# Find paths to all nodes accessible from the source.\u001b[39;00m\n\u001b[0;32m    299\u001b[0m     \u001b[39mif\u001b[39;00m method \u001b[39m==\u001b[39m \u001b[39m\"\u001b[39m\u001b[39munweighted\u001b[39m\u001b[39m\"\u001b[39m:\n\u001b[1;32m--> 300\u001b[0m         paths \u001b[39m=\u001b[39m nx\u001b[39m.\u001b[39;49msingle_source_shortest_path_length(G, source)\n\u001b[0;32m    301\u001b[0m     \u001b[39melif\u001b[39;00m method \u001b[39m==\u001b[39m \u001b[39m\"\u001b[39m\u001b[39mdijkstra\u001b[39m\u001b[39m\"\u001b[39m:\n\u001b[0;32m    302\u001b[0m         path_length \u001b[39m=\u001b[39m nx\u001b[39m.\u001b[39msingle_source_dijkstra_path_length\n",
      "File \u001b[1;32m~\\AppData\\Roaming\\Python\\Python311\\site-packages\\networkx\\algorithms\\shortest_paths\\unweighted.py:59\u001b[0m, in \u001b[0;36msingle_source_shortest_path_length\u001b[1;34m(G, source, cutoff)\u001b[0m\n\u001b[0;32m     57\u001b[0m     cutoff \u001b[39m=\u001b[39m \u001b[39mfloat\u001b[39m(\u001b[39m\"\u001b[39m\u001b[39minf\u001b[39m\u001b[39m\"\u001b[39m)\n\u001b[0;32m     58\u001b[0m nextlevel \u001b[39m=\u001b[39m {source: \u001b[39m1\u001b[39m}\n\u001b[1;32m---> 59\u001b[0m \u001b[39mreturn\u001b[39;00m \u001b[39mdict\u001b[39;49m(_single_shortest_path_length(G\u001b[39m.\u001b[39;49madj, nextlevel, cutoff))\n",
      "File \u001b[1;32m~\\AppData\\Roaming\\Python\\Python311\\site-packages\\networkx\\algorithms\\shortest_paths\\unweighted.py:91\u001b[0m, in \u001b[0;36m_single_shortest_path_length\u001b[1;34m(adj, firstlevel, cutoff)\u001b[0m\n\u001b[0;32m     89\u001b[0m         \u001b[39mreturn\u001b[39;00m\n\u001b[0;32m     90\u001b[0m     \u001b[39mfor\u001b[39;00m v \u001b[39min\u001b[39;00m found:\n\u001b[1;32m---> 91\u001b[0m         nextlevel\u001b[39m.\u001b[39;49mupdate(adj[v])\n\u001b[0;32m     92\u001b[0m     level \u001b[39m+\u001b[39m\u001b[39m=\u001b[39m \u001b[39m1\u001b[39m\n\u001b[0;32m     93\u001b[0m \u001b[39mdel\u001b[39;00m seen\n",
      "File \u001b[1;32m~\\AppData\\Roaming\\Python\\Python311\\site-packages\\networkx\\classes\\coreviews.py:281\u001b[0m, in \u001b[0;36m<genexpr>\u001b[1;34m(.0)\u001b[0m\n\u001b[0;32m    279\u001b[0m \u001b[39mif\u001b[39;00m node_ok_shorter:\n\u001b[0;32m    280\u001b[0m     \u001b[39mreturn\u001b[39;00m (n \u001b[39mfor\u001b[39;00m n \u001b[39min\u001b[39;00m \u001b[39mself\u001b[39m\u001b[39m.\u001b[39mNODE_OK\u001b[39m.\u001b[39mnodes \u001b[39mif\u001b[39;00m n \u001b[39min\u001b[39;00m \u001b[39mself\u001b[39m\u001b[39m.\u001b[39m_atlas)\n\u001b[1;32m--> 281\u001b[0m \u001b[39mreturn\u001b[39;00m (n \u001b[39mfor\u001b[39;00m n \u001b[39min\u001b[39;00m \u001b[39mself\u001b[39m\u001b[39m.\u001b[39m_atlas \u001b[39mif\u001b[39;00m \u001b[39mself\u001b[39m\u001b[39m.\u001b[39mNODE_OK(n))\n",
      "\u001b[1;31mKeyboardInterrupt\u001b[0m: "
     ]
    }
   ],
   "source": [
    "path = 'datasets\\\\Cit-HepTh.txt'\n",
    "analysis_graph(path)"
   ]
  }
 ],
 "metadata": {
  "kernelspec": {
   "display_name": "Python 3",
   "language": "python",
   "name": "python3"
  },
  "language_info": {
   "codemirror_mode": {
    "name": "ipython",
    "version": 3
   },
   "file_extension": ".py",
   "mimetype": "text/x-python",
   "name": "python",
   "nbconvert_exporter": "python",
   "pygments_lexer": "ipython3",
   "version": "3.11.2"
  },
  "orig_nbformat": 4
 },
 "nbformat": 4,
 "nbformat_minor": 2
}
